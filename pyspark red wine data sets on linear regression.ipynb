{
 "cells": [
  {
   "cell_type": "code",
   "execution_count": 34,
   "id": "5e2b5258",
   "metadata": {},
   "outputs": [],
   "source": [
    "from pyspark.sql import SparkSession\n",
    "\n",
    "spark=SparkSession.builder.appName(\"Missing\").getOrCreate()"
   ]
  },
  {
   "cell_type": "code",
   "execution_count": 35,
   "id": "63e72bcc",
   "metadata": {},
   "outputs": [
    {
     "name": "stdout",
     "output_type": "stream",
     "text": [
      "+-------------+----------------+-----------+--------------+---------+-------------------+--------------------+-------+----+---------+-------+-------+\n",
      "|fixed acidity|volatile acidity|citric acid|residual sugar|chlorides|free sulfur dioxide|total sulfur dioxide|density|  pH|sulphates|alcohol|quality|\n",
      "+-------------+----------------+-----------+--------------+---------+-------------------+--------------------+-------+----+---------+-------+-------+\n",
      "|          7.4|             0.7|        0.0|           1.9|    0.076|               11.0|                34.0| 0.9978|3.51|     0.56|    9.4|      5|\n",
      "|          7.8|            0.88|        0.0|           2.6|    0.098|               25.0|                67.0| 0.9968| 3.2|     0.68|    9.8|      5|\n",
      "|          7.8|            0.76|       0.04|           2.3|    0.092|               15.0|                54.0|  0.997|3.26|     0.65|    9.8|      5|\n",
      "|         11.2|            0.28|       0.56|           1.9|    0.075|               17.0|                60.0|  0.998|3.16|     0.58|    9.8|      6|\n",
      "|          7.4|             0.7|        0.0|           1.9|    0.076|               11.0|                34.0| 0.9978|3.51|     0.56|    9.4|      5|\n",
      "|          7.4|            0.66|        0.0|           1.8|    0.075|               13.0|                40.0| 0.9978|3.51|     0.56|    9.4|      5|\n",
      "|          7.9|             0.6|       0.06|           1.6|    0.069|               15.0|                59.0| 0.9964| 3.3|     0.46|    9.4|      5|\n",
      "|          7.3|            0.65|        0.0|           1.2|    0.065|               15.0|                21.0| 0.9946|3.39|     0.47|   10.0|      7|\n",
      "|          7.8|            0.58|       0.02|           2.0|    0.073|                9.0|                18.0| 0.9968|3.36|     0.57|    9.5|      7|\n",
      "|          7.5|             0.5|       0.36|           6.1|    0.071|               17.0|               102.0| 0.9978|3.35|      0.8|   10.5|      5|\n",
      "|          6.7|            0.58|       0.08|           1.8|    0.097|               15.0|                65.0| 0.9959|3.28|     0.54|    9.2|      5|\n",
      "|          7.5|             0.5|       0.36|           6.1|    0.071|               17.0|               102.0| 0.9978|3.35|      0.8|   10.5|      5|\n",
      "|          5.6|           0.615|        0.0|           1.6|    0.089|               16.0|                59.0| 0.9943|3.58|     0.52|    9.9|      5|\n",
      "|          7.8|            0.61|       0.29|           1.6|    0.114|                9.0|                29.0| 0.9974|3.26|     1.56|    9.1|      5|\n",
      "|          8.9|            0.62|       0.18|           3.8|    0.176|               52.0|               145.0| 0.9986|3.16|     0.88|    9.2|      5|\n",
      "|          8.9|            0.62|       0.19|           3.9|     0.17|               51.0|               148.0| 0.9986|3.17|     0.93|    9.2|      5|\n",
      "|          8.5|            0.28|       0.56|           1.8|    0.092|               35.0|               103.0| 0.9969| 3.3|     0.75|   10.5|      7|\n",
      "|          8.1|            0.56|       0.28|           1.7|    0.368|               16.0|                56.0| 0.9968|3.11|     1.28|    9.3|      5|\n",
      "|          7.4|            0.59|       0.08|           4.4|    0.086|                6.0|                29.0| 0.9974|3.38|      0.5|    9.0|      4|\n",
      "|          7.9|            0.32|       0.51|           1.8|    0.341|               17.0|                56.0| 0.9969|3.04|     1.08|    9.2|      6|\n",
      "+-------------+----------------+-----------+--------------+---------+-------------------+--------------------+-------+----+---------+-------+-------+\n",
      "only showing top 20 rows\n",
      "\n"
     ]
    }
   ],
   "source": [
    "# Read the data\n",
    "df = spark.read.csv(r\"C:\\Users\\user\\Desktop\\winequality-red.csv\",header=True,inferSchema=True,sep=(';'))\n",
    "df.show()"
   ]
  },
  {
   "cell_type": "code",
   "execution_count": 36,
   "id": "64f6f85c",
   "metadata": {},
   "outputs": [
    {
     "name": "stdout",
     "output_type": "stream",
     "text": [
      "root\n",
      " |-- fixed acidity: double (nullable = true)\n",
      " |-- volatile acidity: double (nullable = true)\n",
      " |-- citric acid: double (nullable = true)\n",
      " |-- residual sugar: double (nullable = true)\n",
      " |-- chlorides: double (nullable = true)\n",
      " |-- free sulfur dioxide: double (nullable = true)\n",
      " |-- total sulfur dioxide: double (nullable = true)\n",
      " |-- density: double (nullable = true)\n",
      " |-- pH: double (nullable = true)\n",
      " |-- sulphates: double (nullable = true)\n",
      " |-- alcohol: double (nullable = true)\n",
      " |-- quality: integer (nullable = true)\n",
      "\n"
     ]
    }
   ],
   "source": [
    "df.printSchema()"
   ]
  },
  {
   "cell_type": "code",
   "execution_count": 37,
   "id": "12c48499",
   "metadata": {},
   "outputs": [
    {
     "data": {
      "text/plain": [
       "['fixed acidity',\n",
       " 'volatile acidity',\n",
       " 'citric acid',\n",
       " 'residual sugar',\n",
       " 'chlorides',\n",
       " 'free sulfur dioxide',\n",
       " 'total sulfur dioxide',\n",
       " 'density',\n",
       " 'pH',\n",
       " 'sulphates',\n",
       " 'alcohol',\n",
       " 'quality']"
      ]
     },
     "execution_count": 37,
     "metadata": {},
     "output_type": "execute_result"
    }
   ],
   "source": [
    "df.columns"
   ]
  },
  {
   "cell_type": "code",
   "execution_count": 38,
   "id": "aa19d027",
   "metadata": {},
   "outputs": [],
   "source": [
    "from pyspark.ml.feature import VectorAssembler\n",
    "feature_assember = VectorAssembler(inputCols=['fixed acidity',\n",
    " 'volatile acidity',\n",
    " 'citric acid',\n",
    " 'residual sugar',\n",
    " 'chlorides',\n",
    " 'free sulfur dioxide',\n",
    " 'total sulfur dioxide',\n",
    " 'density',\n",
    " 'pH',\n",
    " 'sulphates',\n",
    " 'alcohol'],outputCol='Independent Features')"
   ]
  },
  {
   "cell_type": "code",
   "execution_count": 39,
   "id": "9b98370f",
   "metadata": {},
   "outputs": [
    {
     "name": "stdout",
     "output_type": "stream",
     "text": [
      "+-------------+----------------+-----------+--------------+---------+-------------------+--------------------+-------+----+---------+-------+-------+--------------------+\n",
      "|fixed acidity|volatile acidity|citric acid|residual sugar|chlorides|free sulfur dioxide|total sulfur dioxide|density|  pH|sulphates|alcohol|quality|Independent Features|\n",
      "+-------------+----------------+-----------+--------------+---------+-------------------+--------------------+-------+----+---------+-------+-------+--------------------+\n",
      "|          7.4|             0.7|        0.0|           1.9|    0.076|               11.0|                34.0| 0.9978|3.51|     0.56|    9.4|      5|[7.4,0.7,0.0,1.9,...|\n",
      "|          7.8|            0.88|        0.0|           2.6|    0.098|               25.0|                67.0| 0.9968| 3.2|     0.68|    9.8|      5|[7.8,0.88,0.0,2.6...|\n",
      "|          7.8|            0.76|       0.04|           2.3|    0.092|               15.0|                54.0|  0.997|3.26|     0.65|    9.8|      5|[7.8,0.76,0.04,2....|\n",
      "|         11.2|            0.28|       0.56|           1.9|    0.075|               17.0|                60.0|  0.998|3.16|     0.58|    9.8|      6|[11.2,0.28,0.56,1...|\n",
      "|          7.4|             0.7|        0.0|           1.9|    0.076|               11.0|                34.0| 0.9978|3.51|     0.56|    9.4|      5|[7.4,0.7,0.0,1.9,...|\n",
      "|          7.4|            0.66|        0.0|           1.8|    0.075|               13.0|                40.0| 0.9978|3.51|     0.56|    9.4|      5|[7.4,0.66,0.0,1.8...|\n",
      "|          7.9|             0.6|       0.06|           1.6|    0.069|               15.0|                59.0| 0.9964| 3.3|     0.46|    9.4|      5|[7.9,0.6,0.06,1.6...|\n",
      "|          7.3|            0.65|        0.0|           1.2|    0.065|               15.0|                21.0| 0.9946|3.39|     0.47|   10.0|      7|[7.3,0.65,0.0,1.2...|\n",
      "|          7.8|            0.58|       0.02|           2.0|    0.073|                9.0|                18.0| 0.9968|3.36|     0.57|    9.5|      7|[7.8,0.58,0.02,2....|\n",
      "|          7.5|             0.5|       0.36|           6.1|    0.071|               17.0|               102.0| 0.9978|3.35|      0.8|   10.5|      5|[7.5,0.5,0.36,6.1...|\n",
      "|          6.7|            0.58|       0.08|           1.8|    0.097|               15.0|                65.0| 0.9959|3.28|     0.54|    9.2|      5|[6.7,0.58,0.08,1....|\n",
      "|          7.5|             0.5|       0.36|           6.1|    0.071|               17.0|               102.0| 0.9978|3.35|      0.8|   10.5|      5|[7.5,0.5,0.36,6.1...|\n",
      "|          5.6|           0.615|        0.0|           1.6|    0.089|               16.0|                59.0| 0.9943|3.58|     0.52|    9.9|      5|[5.6,0.615,0.0,1....|\n",
      "|          7.8|            0.61|       0.29|           1.6|    0.114|                9.0|                29.0| 0.9974|3.26|     1.56|    9.1|      5|[7.8,0.61,0.29,1....|\n",
      "|          8.9|            0.62|       0.18|           3.8|    0.176|               52.0|               145.0| 0.9986|3.16|     0.88|    9.2|      5|[8.9,0.62,0.18,3....|\n",
      "|          8.9|            0.62|       0.19|           3.9|     0.17|               51.0|               148.0| 0.9986|3.17|     0.93|    9.2|      5|[8.9,0.62,0.19,3....|\n",
      "|          8.5|            0.28|       0.56|           1.8|    0.092|               35.0|               103.0| 0.9969| 3.3|     0.75|   10.5|      7|[8.5,0.28,0.56,1....|\n",
      "|          8.1|            0.56|       0.28|           1.7|    0.368|               16.0|                56.0| 0.9968|3.11|     1.28|    9.3|      5|[8.1,0.56,0.28,1....|\n",
      "|          7.4|            0.59|       0.08|           4.4|    0.086|                6.0|                29.0| 0.9974|3.38|      0.5|    9.0|      4|[7.4,0.59,0.08,4....|\n",
      "|          7.9|            0.32|       0.51|           1.8|    0.341|               17.0|                56.0| 0.9969|3.04|     1.08|    9.2|      6|[7.9,0.32,0.51,1....|\n",
      "+-------------+----------------+-----------+--------------+---------+-------------------+--------------------+-------+----+---------+-------+-------+--------------------+\n",
      "only showing top 20 rows\n",
      "\n"
     ]
    }
   ],
   "source": [
    "output = feature_assember.transform(df)\n",
    "output.show()"
   ]
  },
  {
   "cell_type": "code",
   "execution_count": 40,
   "id": "3cbba511",
   "metadata": {},
   "outputs": [
    {
     "data": {
      "text/plain": [
       "['fixed acidity',\n",
       " 'volatile acidity',\n",
       " 'citric acid',\n",
       " 'residual sugar',\n",
       " 'chlorides',\n",
       " 'free sulfur dioxide',\n",
       " 'total sulfur dioxide',\n",
       " 'density',\n",
       " 'pH',\n",
       " 'sulphates',\n",
       " 'alcohol',\n",
       " 'quality',\n",
       " 'Independent Features']"
      ]
     },
     "execution_count": 40,
     "metadata": {},
     "output_type": "execute_result"
    }
   ],
   "source": [
    "output.columns"
   ]
  },
  {
   "cell_type": "code",
   "execution_count": 41,
   "id": "d9a72852",
   "metadata": {},
   "outputs": [
    {
     "name": "stdout",
     "output_type": "stream",
     "text": [
      "+--------------------+-------+\n",
      "|Independent Features|quality|\n",
      "+--------------------+-------+\n",
      "|[7.4,0.7,0.0,1.9,...|      5|\n",
      "|[7.8,0.88,0.0,2.6...|      5|\n",
      "|[7.8,0.76,0.04,2....|      5|\n",
      "|[11.2,0.28,0.56,1...|      6|\n",
      "|[7.4,0.7,0.0,1.9,...|      5|\n",
      "|[7.4,0.66,0.0,1.8...|      5|\n",
      "|[7.9,0.6,0.06,1.6...|      5|\n",
      "|[7.3,0.65,0.0,1.2...|      7|\n",
      "|[7.8,0.58,0.02,2....|      7|\n",
      "|[7.5,0.5,0.36,6.1...|      5|\n",
      "|[6.7,0.58,0.08,1....|      5|\n",
      "|[7.5,0.5,0.36,6.1...|      5|\n",
      "|[5.6,0.615,0.0,1....|      5|\n",
      "|[7.8,0.61,0.29,1....|      5|\n",
      "|[8.9,0.62,0.18,3....|      5|\n",
      "|[8.9,0.62,0.19,3....|      5|\n",
      "|[8.5,0.28,0.56,1....|      7|\n",
      "|[8.1,0.56,0.28,1....|      5|\n",
      "|[7.4,0.59,0.08,4....|      4|\n",
      "|[7.9,0.32,0.51,1....|      6|\n",
      "+--------------------+-------+\n",
      "only showing top 20 rows\n",
      "\n"
     ]
    }
   ],
   "source": [
    "finalized_data= output.select(\"Independent Features\",\"quality\")\n",
    "finalized_data.show()"
   ]
  },
  {
   "cell_type": "code",
   "execution_count": 42,
   "id": "993edd05",
   "metadata": {},
   "outputs": [],
   "source": [
    "from pyspark.ml.regression import LinearRegression\n",
    "\n",
    "\n",
    "# train test split\n",
    "train_data,test_data = finalized_data.randomSplit([0.70,0.30])\n",
    "\n",
    "# train the linearRegression Model\n",
    "regressor=LinearRegression(featuresCol=\"Independent Features\", labelCol=\"quality\")\n",
    "regressor=regressor.fit(train_data)"
   ]
  },
  {
   "cell_type": "code",
   "execution_count": 43,
   "id": "edf7477e",
   "metadata": {},
   "outputs": [
    {
     "data": {
      "text/plain": [
       "DenseVector([0.0078, -1.132, -0.1697, 0.0176, -1.3858, 0.0047, -0.0037, -4.6468, -0.6188, 0.7454, 0.3088])"
      ]
     },
     "execution_count": 43,
     "metadata": {},
     "output_type": "execute_result"
    }
   ],
   "source": [
    "# Coefficients\n",
    "regressor.coefficients"
   ]
  },
  {
   "cell_type": "code",
   "execution_count": 44,
   "id": "9abbabd9",
   "metadata": {},
   "outputs": [
    {
     "data": {
      "text/plain": [
       "9.356956002600418"
      ]
     },
     "execution_count": 44,
     "metadata": {},
     "output_type": "execute_result"
    }
   ],
   "source": [
    "#Intercept\n",
    "regressor.intercept"
   ]
  },
  {
   "cell_type": "code",
   "execution_count": 45,
   "id": "7d89296c",
   "metadata": {},
   "outputs": [],
   "source": [
    "# prediction\n",
    "pred_result= regressor.evaluate(test_data)"
   ]
  },
  {
   "cell_type": "code",
   "execution_count": 46,
   "id": "8d8d17e4",
   "metadata": {},
   "outputs": [
    {
     "name": "stdout",
     "output_type": "stream",
     "text": [
      "+--------------------+-------+------------------+\n",
      "|Independent Features|quality|        prediction|\n",
      "+--------------------+-------+------------------+\n",
      "|[4.9,0.42,0.0,2.1...|      7| 6.778705762224322|\n",
      "|[5.0,1.02,0.04,1....|      4| 4.731455976850267|\n",
      "|[5.1,0.585,0.0,1....|      7| 6.315562669977012|\n",
      "|[5.2,0.32,0.25,1....|      5| 5.287699042529093|\n",
      "|[5.2,0.49,0.26,2....|      6| 5.853413306132402|\n",
      "|[5.3,0.47,0.11,2....|      7| 6.607291797956927|\n",
      "|[5.3,0.47,0.11,2....|      7|6.6175837763906316|\n",
      "|[5.3,0.715,0.19,1...|      5|5.1532389420348865|\n",
      "|[5.6,0.31,0.37,1....|      5| 5.199407687626371|\n",
      "|[5.6,0.31,0.78,13...|      6| 5.692888226261616|\n",
      "|[5.6,0.5,0.09,2.3...|      5| 6.121004278307179|\n",
      "|[5.6,0.66,0.0,2.5...|      5| 6.207414068424551|\n",
      "|[5.6,0.85,0.05,1....|      8| 5.899218963386685|\n",
      "|[5.7,1.13,0.09,1....|      4| 4.455460144878269|\n",
      "|[5.8,0.29,0.26,1....|      6|6.8109102620527455|\n",
      "|[5.8,1.01,0.66,2....|      6| 4.985392852893079|\n",
      "|[5.9,0.61,0.08,2....|      6| 5.802641866556652|\n",
      "|[6.0,0.33,0.32,12...|      4| 6.032981656336711|\n",
      "|[6.0,0.42,0.19,2....|      6| 5.700825197344676|\n",
      "|[6.1,0.38,0.15,1....|      5| 5.422713644778827|\n",
      "+--------------------+-------+------------------+\n",
      "only showing top 20 rows\n",
      "\n"
     ]
    }
   ],
   "source": [
    "pred_result.predictions.show()"
   ]
  },
  {
   "cell_type": "code",
   "execution_count": 47,
   "id": "90200b5e",
   "metadata": {},
   "outputs": [
    {
     "data": {
      "text/plain": [
       "(0.5207295882602947, 0.44517697909365705)"
      ]
     },
     "execution_count": 47,
     "metadata": {},
     "output_type": "execute_result"
    }
   ],
   "source": [
    "pred_result.meanAbsoluteError,pred_result.meanSquaredError"
   ]
  },
  {
   "cell_type": "code",
   "execution_count": 48,
   "id": "cbd0fc74",
   "metadata": {},
   "outputs": [
    {
     "data": {
      "text/plain": [
       "0.3117177784429038"
      ]
     },
     "execution_count": 48,
     "metadata": {},
     "output_type": "execute_result"
    }
   ],
   "source": [
    "pred_result.r2"
   ]
  },
  {
   "cell_type": "code",
   "execution_count": null,
   "id": "7c9bb3eb",
   "metadata": {},
   "outputs": [],
   "source": []
  }
 ],
 "metadata": {
  "kernelspec": {
   "display_name": "Python 3 (ipykernel)",
   "language": "python",
   "name": "python3"
  },
  "language_info": {
   "codemirror_mode": {
    "name": "ipython",
    "version": 3
   },
   "file_extension": ".py",
   "mimetype": "text/x-python",
   "name": "python",
   "nbconvert_exporter": "python",
   "pygments_lexer": "ipython3",
   "version": "3.9.12"
  }
 },
 "nbformat": 4,
 "nbformat_minor": 5
}

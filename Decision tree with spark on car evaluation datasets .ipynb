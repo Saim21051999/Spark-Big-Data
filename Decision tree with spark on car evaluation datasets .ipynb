{
 "cells": [
  {
   "cell_type": "code",
   "execution_count": 18,
   "id": "da411093",
   "metadata": {},
   "outputs": [],
   "source": [
    "from pyspark.sql import SparkSession\n",
    "spark = SparkSession.builder.appName(\"Classifier\").getOrCreate()"
   ]
  },
  {
   "cell_type": "code",
   "execution_count": 19,
   "id": "4d0a5264",
   "metadata": {},
   "outputs": [
    {
     "name": "stdout",
     "output_type": "stream",
     "text": [
      "+------+-----+-----+------+--------+------+-----+\n",
      "|buying|maint|doors|person|lug_boot|safety|class|\n",
      "+------+-----+-----+------+--------+------+-----+\n",
      "| vhigh|vhigh|    2|     2|   small|   low|unacc|\n",
      "| vhigh|vhigh|    2|     2|   small|   med|unacc|\n",
      "| vhigh|vhigh|    2|     2|   small|  high|unacc|\n",
      "| vhigh|vhigh|    2|     2|     med|   low|unacc|\n",
      "| vhigh|vhigh|    2|     2|     med|   med|unacc|\n",
      "| vhigh|vhigh|    2|     2|     med|  high|unacc|\n",
      "| vhigh|vhigh|    2|     2|     big|   low|unacc|\n",
      "| vhigh|vhigh|    2|     2|     big|   med|unacc|\n",
      "| vhigh|vhigh|    2|     2|     big|  high|unacc|\n",
      "| vhigh|vhigh|    2|     4|   small|   low|unacc|\n",
      "| vhigh|vhigh|    2|     4|   small|   med|unacc|\n",
      "| vhigh|vhigh|    2|     4|   small|  high|unacc|\n",
      "| vhigh|vhigh|    2|     4|     med|   low|unacc|\n",
      "| vhigh|vhigh|    2|     4|     med|   med|unacc|\n",
      "| vhigh|vhigh|    2|     4|     med|  high|unacc|\n",
      "| vhigh|vhigh|    2|     4|     big|   low|unacc|\n",
      "| vhigh|vhigh|    2|     4|     big|   med|unacc|\n",
      "| vhigh|vhigh|    2|     4|     big|  high|unacc|\n",
      "| vhigh|vhigh|    2|  more|   small|   low|unacc|\n",
      "| vhigh|vhigh|    2|  more|   small|   med|unacc|\n",
      "+------+-----+-----+------+--------+------+-----+\n",
      "only showing top 20 rows\n",
      "\n"
     ]
    }
   ],
   "source": [
    "# Read the data\n",
    "df = spark.read.csv(r\"C:\\Users\\user\\Downloads\\car_evaluation.csv\",inferSchema=True).toDF('buying','maint','doors','person','lug_boot','safety','class')\n",
    "df.show()"
   ]
  },
  {
   "cell_type": "code",
   "execution_count": 20,
   "id": "161e5a61",
   "metadata": {},
   "outputs": [
    {
     "data": {
      "text/plain": [
       "[('buying', 'string'),\n",
       " ('maint', 'string'),\n",
       " ('doors', 'string'),\n",
       " ('person', 'string'),\n",
       " ('lug_boot', 'string'),\n",
       " ('safety', 'string'),\n",
       " ('class', 'string')]"
      ]
     },
     "execution_count": 20,
     "metadata": {},
     "output_type": "execute_result"
    }
   ],
   "source": [
    "df.dtypes"
   ]
  },
  {
   "cell_type": "code",
   "execution_count": 21,
   "id": "a129e529",
   "metadata": {},
   "outputs": [
    {
     "name": "stdout",
     "output_type": "stream",
     "text": [
      "root\n",
      " |-- buying: string (nullable = true)\n",
      " |-- maint: string (nullable = true)\n",
      " |-- doors: string (nullable = true)\n",
      " |-- person: string (nullable = true)\n",
      " |-- lug_boot: string (nullable = true)\n",
      " |-- safety: string (nullable = true)\n",
      " |-- class: string (nullable = true)\n",
      "\n"
     ]
    }
   ],
   "source": [
    "df.printSchema()"
   ]
  },
  {
   "cell_type": "code",
   "execution_count": 22,
   "id": "4d8770c2",
   "metadata": {},
   "outputs": [
    {
     "data": {
      "text/plain": [
       "['buying', 'maint', 'doors', 'person', 'lug_boot', 'safety', 'class']"
      ]
     },
     "execution_count": 22,
     "metadata": {},
     "output_type": "execute_result"
    }
   ],
   "source": [
    "df.columns"
   ]
  },
  {
   "cell_type": "code",
   "execution_count": 23,
   "id": "02463c61",
   "metadata": {},
   "outputs": [],
   "source": [
    "#from pyspark.sql.types import IntegerType\n",
    "\n",
    "#df = df.withColumn(\"buying\",df[\"buying\"].cast(IntegerType()))\n",
    "#df = df.withColumn(\"maint\",df[\"maint\"].cast(IntegerType()))\n",
    "#df = df.withColumn(\"doors\",df[\"doors\"].cast(IntegerType()))\n",
    "#df = df.withColumn(\"person\",df[\"person\"].cast(IntegerType()))\n",
    "#df = df.withColumn(\"lug_boot\",df[\"lug_boot\"].cast(IntegerType()))\n",
    "#df = df.withColumn(\"safety\",df[\"safety\"].cast(IntegerType()))\n",
    "#df = df.withColumn(\"class\",df[\"class\"].cast(IntegerType()))"
   ]
  },
  {
   "cell_type": "code",
   "execution_count": 24,
   "id": "e7dfd730",
   "metadata": {},
   "outputs": [
    {
     "data": {
      "text/plain": [
       "[('buying', 'string'),\n",
       " ('maint', 'string'),\n",
       " ('doors', 'string'),\n",
       " ('person', 'string'),\n",
       " ('lug_boot', 'string'),\n",
       " ('safety', 'string'),\n",
       " ('class', 'string')]"
      ]
     },
     "execution_count": 24,
     "metadata": {},
     "output_type": "execute_result"
    }
   ],
   "source": [
    "df.dtypes"
   ]
  },
  {
   "cell_type": "code",
   "execution_count": 25,
   "id": "4e15487f",
   "metadata": {},
   "outputs": [
    {
     "data": {
      "text/plain": [
       "['buying', 'maint', 'doors', 'person', 'lug_boot', 'safety', 'class']"
      ]
     },
     "execution_count": 25,
     "metadata": {},
     "output_type": "execute_result"
    }
   ],
   "source": [
    "df.columns"
   ]
  },
  {
   "cell_type": "code",
   "execution_count": 26,
   "id": "72c52c92",
   "metadata": {},
   "outputs": [
    {
     "name": "stdout",
     "output_type": "stream",
     "text": [
      "root\n",
      " |-- buying: string (nullable = true)\n",
      " |-- maint: string (nullable = true)\n",
      " |-- doors: string (nullable = true)\n",
      " |-- person: string (nullable = true)\n",
      " |-- lug_boot: string (nullable = true)\n",
      " |-- safety: string (nullable = true)\n",
      " |-- class: string (nullable = true)\n",
      "\n"
     ]
    }
   ],
   "source": [
    "df.printSchema()"
   ]
  },
  {
   "cell_type": "code",
   "execution_count": 27,
   "id": "5a4ebd0b",
   "metadata": {},
   "outputs": [
    {
     "name": "stdout",
     "output_type": "stream",
     "text": [
      "+------+-----+-----+------+--------+------+-----+\n",
      "|buying|maint|doors|person|lug_boot|safety|class|\n",
      "+------+-----+-----+------+--------+------+-----+\n",
      "+------+-----+-----+------+--------+------+-----+\n",
      "\n",
      "None\n",
      "+------+-----+-----+------+--------+------+-----+\n",
      "|buying|maint|doors|person|lug_boot|safety|class|\n",
      "+------+-----+-----+------+--------+------+-----+\n",
      "+------+-----+-----+------+--------+------+-----+\n",
      "\n",
      "None\n",
      "+------+-----+-----+------+--------+------+-----+\n",
      "|buying|maint|doors|person|lug_boot|safety|class|\n",
      "+------+-----+-----+------+--------+------+-----+\n",
      "+------+-----+-----+------+--------+------+-----+\n",
      "\n",
      "None\n",
      "+------+-----+-----+------+--------+------+-----+\n",
      "|buying|maint|doors|person|lug_boot|safety|class|\n",
      "+------+-----+-----+------+--------+------+-----+\n",
      "+------+-----+-----+------+--------+------+-----+\n",
      "\n",
      "None\n",
      "+------+-----+-----+------+--------+------+-----+\n",
      "|buying|maint|doors|person|lug_boot|safety|class|\n",
      "+------+-----+-----+------+--------+------+-----+\n",
      "+------+-----+-----+------+--------+------+-----+\n",
      "\n",
      "None\n",
      "+------+-----+-----+------+--------+------+-----+\n",
      "|buying|maint|doors|person|lug_boot|safety|class|\n",
      "+------+-----+-----+------+--------+------+-----+\n",
      "+------+-----+-----+------+--------+------+-----+\n",
      "\n",
      "None\n",
      "+------+-----+-----+------+--------+------+-----+\n",
      "|buying|maint|doors|person|lug_boot|safety|class|\n",
      "+------+-----+-----+------+--------+------+-----+\n",
      "+------+-----+-----+------+--------+------+-----+\n",
      "\n",
      "None\n"
     ]
    }
   ],
   "source": [
    "for i in df.columns:\n",
    "  print(df.filter(df[i].isNull()).show())"
   ]
  },
  {
   "cell_type": "code",
   "execution_count": 28,
   "id": "2a2fa349",
   "metadata": {},
   "outputs": [
    {
     "name": "stdout",
     "output_type": "stream",
     "text": [
      "+------+-----+-----+------+--------+------+-----+--------------------------+-------------------------+-------------------------+--------------------------+----------------------------+--------------------------+-------------------------+\n",
      "|buying|maint|doors|person|lug_boot|safety|class|independent_encoder_buying|independent_encoder_maint|independent_encoder_doors|independent_encoder_person|independent_encoder_lug_boot|independent_encoder_safety|independent_encoder_class|\n",
      "+------+-----+-----+------+--------+------+-----+--------------------------+-------------------------+-------------------------+--------------------------+----------------------------+--------------------------+-------------------------+\n",
      "| vhigh|vhigh|    2|     2|   small|   low|unacc|                       3.0|                      3.0|                      0.0|                       0.0|                         2.0|                       1.0|                      0.0|\n",
      "| vhigh|vhigh|    2|     2|   small|   med|unacc|                       3.0|                      3.0|                      0.0|                       0.0|                         2.0|                       2.0|                      0.0|\n",
      "| vhigh|vhigh|    2|     2|   small|  high|unacc|                       3.0|                      3.0|                      0.0|                       0.0|                         2.0|                       0.0|                      0.0|\n",
      "| vhigh|vhigh|    2|     2|     med|   low|unacc|                       3.0|                      3.0|                      0.0|                       0.0|                         1.0|                       1.0|                      0.0|\n",
      "| vhigh|vhigh|    2|     2|     med|   med|unacc|                       3.0|                      3.0|                      0.0|                       0.0|                         1.0|                       2.0|                      0.0|\n",
      "| vhigh|vhigh|    2|     2|     med|  high|unacc|                       3.0|                      3.0|                      0.0|                       0.0|                         1.0|                       0.0|                      0.0|\n",
      "| vhigh|vhigh|    2|     2|     big|   low|unacc|                       3.0|                      3.0|                      0.0|                       0.0|                         0.0|                       1.0|                      0.0|\n",
      "| vhigh|vhigh|    2|     2|     big|   med|unacc|                       3.0|                      3.0|                      0.0|                       0.0|                         0.0|                       2.0|                      0.0|\n",
      "| vhigh|vhigh|    2|     2|     big|  high|unacc|                       3.0|                      3.0|                      0.0|                       0.0|                         0.0|                       0.0|                      0.0|\n",
      "| vhigh|vhigh|    2|     4|   small|   low|unacc|                       3.0|                      3.0|                      0.0|                       1.0|                         2.0|                       1.0|                      0.0|\n",
      "| vhigh|vhigh|    2|     4|   small|   med|unacc|                       3.0|                      3.0|                      0.0|                       1.0|                         2.0|                       2.0|                      0.0|\n",
      "| vhigh|vhigh|    2|     4|   small|  high|unacc|                       3.0|                      3.0|                      0.0|                       1.0|                         2.0|                       0.0|                      0.0|\n",
      "| vhigh|vhigh|    2|     4|     med|   low|unacc|                       3.0|                      3.0|                      0.0|                       1.0|                         1.0|                       1.0|                      0.0|\n",
      "| vhigh|vhigh|    2|     4|     med|   med|unacc|                       3.0|                      3.0|                      0.0|                       1.0|                         1.0|                       2.0|                      0.0|\n",
      "| vhigh|vhigh|    2|     4|     med|  high|unacc|                       3.0|                      3.0|                      0.0|                       1.0|                         1.0|                       0.0|                      0.0|\n",
      "| vhigh|vhigh|    2|     4|     big|   low|unacc|                       3.0|                      3.0|                      0.0|                       1.0|                         0.0|                       1.0|                      0.0|\n",
      "| vhigh|vhigh|    2|     4|     big|   med|unacc|                       3.0|                      3.0|                      0.0|                       1.0|                         0.0|                       2.0|                      0.0|\n",
      "| vhigh|vhigh|    2|     4|     big|  high|unacc|                       3.0|                      3.0|                      0.0|                       1.0|                         0.0|                       0.0|                      0.0|\n",
      "| vhigh|vhigh|    2|  more|   small|   low|unacc|                       3.0|                      3.0|                      0.0|                       2.0|                         2.0|                       1.0|                      0.0|\n",
      "| vhigh|vhigh|    2|  more|   small|   med|unacc|                       3.0|                      3.0|                      0.0|                       2.0|                         2.0|                       2.0|                      0.0|\n",
      "+------+-----+-----+------+--------+------+-----+--------------------------+-------------------------+-------------------------+--------------------------+----------------------------+--------------------------+-------------------------+\n",
      "only showing top 20 rows\n",
      "\n"
     ]
    }
   ],
   "source": [
    "from pyspark.ml.feature import StringIndexer\n",
    "from pyspark.sql.functions import concat\n",
    "indexer_list=[]\n",
    "for col in df.columns:\n",
    "     indexer= StringIndexer(inputCol=col,outputCol='independent_encoder_'+col)\n",
    "     indexer_list.append(indexer)\n",
    "for idxer in indexer_list:\n",
    "     df=idxer.fit(df).transform(df)\n",
    "df.show()"
   ]
  },
  {
   "cell_type": "code",
   "execution_count": 29,
   "id": "a20b7a94",
   "metadata": {},
   "outputs": [
    {
     "data": {
      "text/plain": [
       "['buying',\n",
       " 'maint',\n",
       " 'doors',\n",
       " 'person',\n",
       " 'lug_boot',\n",
       " 'safety',\n",
       " 'class',\n",
       " 'independent_encoder_buying',\n",
       " 'independent_encoder_maint',\n",
       " 'independent_encoder_doors',\n",
       " 'independent_encoder_person',\n",
       " 'independent_encoder_lug_boot',\n",
       " 'independent_encoder_safety',\n",
       " 'independent_encoder_class']"
      ]
     },
     "execution_count": 29,
     "metadata": {},
     "output_type": "execute_result"
    }
   ],
   "source": [
    "df.columns"
   ]
  },
  {
   "cell_type": "code",
   "execution_count": 32,
   "id": "6db9f2ed",
   "metadata": {},
   "outputs": [
    {
     "name": "stdout",
     "output_type": "stream",
     "text": [
      "+------+-----+-----+------+--------+------+-----+--------------------------+-------------------------+-------------------------+--------------------------+----------------------------+--------------------------+-------------------------+--------------------+\n",
      "|buying|maint|doors|person|lug_boot|safety|class|independent_encoder_buying|independent_encoder_maint|independent_encoder_doors|independent_encoder_person|independent_encoder_lug_boot|independent_encoder_safety|independent_encoder_class|            features|\n",
      "+------+-----+-----+------+--------+------+-----+--------------------------+-------------------------+-------------------------+--------------------------+----------------------------+--------------------------+-------------------------+--------------------+\n",
      "| vhigh|vhigh|    2|     2|   small|   low|unacc|                       3.0|                      3.0|                      0.0|                       0.0|                         2.0|                       1.0|                      0.0|[3.0,3.0,0.0,0.0,...|\n",
      "| vhigh|vhigh|    2|     2|   small|   med|unacc|                       3.0|                      3.0|                      0.0|                       0.0|                         2.0|                       2.0|                      0.0|[3.0,3.0,0.0,0.0,...|\n",
      "| vhigh|vhigh|    2|     2|   small|  high|unacc|                       3.0|                      3.0|                      0.0|                       0.0|                         2.0|                       0.0|                      0.0|[3.0,3.0,0.0,0.0,...|\n",
      "| vhigh|vhigh|    2|     2|     med|   low|unacc|                       3.0|                      3.0|                      0.0|                       0.0|                         1.0|                       1.0|                      0.0|[3.0,3.0,0.0,0.0,...|\n",
      "| vhigh|vhigh|    2|     2|     med|   med|unacc|                       3.0|                      3.0|                      0.0|                       0.0|                         1.0|                       2.0|                      0.0|[3.0,3.0,0.0,0.0,...|\n",
      "| vhigh|vhigh|    2|     2|     med|  high|unacc|                       3.0|                      3.0|                      0.0|                       0.0|                         1.0|                       0.0|                      0.0|[3.0,3.0,0.0,0.0,...|\n",
      "| vhigh|vhigh|    2|     2|     big|   low|unacc|                       3.0|                      3.0|                      0.0|                       0.0|                         0.0|                       1.0|                      0.0|[3.0,3.0,0.0,0.0,...|\n",
      "| vhigh|vhigh|    2|     2|     big|   med|unacc|                       3.0|                      3.0|                      0.0|                       0.0|                         0.0|                       2.0|                      0.0|[3.0,3.0,0.0,0.0,...|\n",
      "| vhigh|vhigh|    2|     2|     big|  high|unacc|                       3.0|                      3.0|                      0.0|                       0.0|                         0.0|                       0.0|                      0.0| (6,[0,1],[3.0,3.0])|\n",
      "| vhigh|vhigh|    2|     4|   small|   low|unacc|                       3.0|                      3.0|                      0.0|                       1.0|                         2.0|                       1.0|                      0.0|[3.0,3.0,0.0,1.0,...|\n",
      "| vhigh|vhigh|    2|     4|   small|   med|unacc|                       3.0|                      3.0|                      0.0|                       1.0|                         2.0|                       2.0|                      0.0|[3.0,3.0,0.0,1.0,...|\n",
      "| vhigh|vhigh|    2|     4|   small|  high|unacc|                       3.0|                      3.0|                      0.0|                       1.0|                         2.0|                       0.0|                      0.0|[3.0,3.0,0.0,1.0,...|\n",
      "| vhigh|vhigh|    2|     4|     med|   low|unacc|                       3.0|                      3.0|                      0.0|                       1.0|                         1.0|                       1.0|                      0.0|[3.0,3.0,0.0,1.0,...|\n",
      "| vhigh|vhigh|    2|     4|     med|   med|unacc|                       3.0|                      3.0|                      0.0|                       1.0|                         1.0|                       2.0|                      0.0|[3.0,3.0,0.0,1.0,...|\n",
      "| vhigh|vhigh|    2|     4|     med|  high|unacc|                       3.0|                      3.0|                      0.0|                       1.0|                         1.0|                       0.0|                      0.0|[3.0,3.0,0.0,1.0,...|\n",
      "| vhigh|vhigh|    2|     4|     big|   low|unacc|                       3.0|                      3.0|                      0.0|                       1.0|                         0.0|                       1.0|                      0.0|[3.0,3.0,0.0,1.0,...|\n",
      "| vhigh|vhigh|    2|     4|     big|   med|unacc|                       3.0|                      3.0|                      0.0|                       1.0|                         0.0|                       2.0|                      0.0|[3.0,3.0,0.0,1.0,...|\n",
      "| vhigh|vhigh|    2|     4|     big|  high|unacc|                       3.0|                      3.0|                      0.0|                       1.0|                         0.0|                       0.0|                      0.0|[3.0,3.0,0.0,1.0,...|\n",
      "| vhigh|vhigh|    2|  more|   small|   low|unacc|                       3.0|                      3.0|                      0.0|                       2.0|                         2.0|                       1.0|                      0.0|[3.0,3.0,0.0,2.0,...|\n",
      "| vhigh|vhigh|    2|  more|   small|   med|unacc|                       3.0|                      3.0|                      0.0|                       2.0|                         2.0|                       2.0|                      0.0|[3.0,3.0,0.0,2.0,...|\n",
      "+------+-----+-----+------+--------+------+-----+--------------------------+-------------------------+-------------------------+--------------------------+----------------------------+--------------------------+-------------------------+--------------------+\n",
      "only showing top 20 rows\n",
      "\n"
     ]
    }
   ],
   "source": [
    "from pyspark.ml.feature import VectorAssembler\n",
    "va= VectorAssembler(inputCols=['independent_encoder_buying',\n",
    " 'independent_encoder_maint',\n",
    " 'independent_encoder_doors',\n",
    " 'independent_encoder_person',\n",
    " 'independent_encoder_lug_boot',\n",
    " 'independent_encoder_safety'],outputCol='features')\n",
    "output=va.transform(df)\n",
    "output.show()"
   ]
  },
  {
   "cell_type": "code",
   "execution_count": 33,
   "id": "16091047",
   "metadata": {},
   "outputs": [
    {
     "name": "stdout",
     "output_type": "stream",
     "text": [
      "+--------------------+-------------------------+\n",
      "|            features|independent_encoder_class|\n",
      "+--------------------+-------------------------+\n",
      "|[3.0,3.0,0.0,0.0,...|                      0.0|\n",
      "|[3.0,3.0,0.0,0.0,...|                      0.0|\n",
      "|[3.0,3.0,0.0,0.0,...|                      0.0|\n",
      "|[3.0,3.0,0.0,0.0,...|                      0.0|\n",
      "|[3.0,3.0,0.0,0.0,...|                      0.0|\n",
      "|[3.0,3.0,0.0,0.0,...|                      0.0|\n",
      "|[3.0,3.0,0.0,0.0,...|                      0.0|\n",
      "|[3.0,3.0,0.0,0.0,...|                      0.0|\n",
      "| (6,[0,1],[3.0,3.0])|                      0.0|\n",
      "|[3.0,3.0,0.0,1.0,...|                      0.0|\n",
      "|[3.0,3.0,0.0,1.0,...|                      0.0|\n",
      "|[3.0,3.0,0.0,1.0,...|                      0.0|\n",
      "|[3.0,3.0,0.0,1.0,...|                      0.0|\n",
      "|[3.0,3.0,0.0,1.0,...|                      0.0|\n",
      "|[3.0,3.0,0.0,1.0,...|                      0.0|\n",
      "|[3.0,3.0,0.0,1.0,...|                      0.0|\n",
      "|[3.0,3.0,0.0,1.0,...|                      0.0|\n",
      "|[3.0,3.0,0.0,1.0,...|                      0.0|\n",
      "|[3.0,3.0,0.0,2.0,...|                      0.0|\n",
      "|[3.0,3.0,0.0,2.0,...|                      0.0|\n",
      "+--------------------+-------------------------+\n",
      "only showing top 20 rows\n",
      "\n"
     ]
    }
   ],
   "source": [
    "df=output.select('features','independent_encoder_class')\n",
    "df.show()"
   ]
  },
  {
   "cell_type": "code",
   "execution_count": 34,
   "id": "e94de01f",
   "metadata": {},
   "outputs": [],
   "source": [
    "(train,test)=df.randomSplit([0.7,0.3])"
   ]
  },
  {
   "cell_type": "code",
   "execution_count": 35,
   "id": "d96c5616",
   "metadata": {},
   "outputs": [],
   "source": [
    "from pyspark.ml.classification import DecisionTreeClassifier\n",
    "clf=DecisionTreeClassifier(featuresCol='features',labelCol='independent_encoder_class')\n",
    "clf=clf.fit(train)"
   ]
  },
  {
   "cell_type": "code",
   "execution_count": 36,
   "id": "2eaf0f83",
   "metadata": {},
   "outputs": [
    {
     "name": "stdout",
     "output_type": "stream",
     "text": [
      "+-------------------+-------------------------+--------------------+--------------------+----------+\n",
      "|           features|independent_encoder_class|       rawPrediction|         probability|prediction|\n",
      "+-------------------+-------------------------+--------------------+--------------------+----------+\n",
      "|      (6,[0],[1.0])|                      0.0| [262.0,0.0,0.0,0.0]|   [1.0,0.0,0.0,0.0]|       0.0|\n",
      "|      (6,[0],[2.0])|                      0.0| [262.0,0.0,0.0,0.0]|   [1.0,0.0,0.0,0.0]|       0.0|\n",
      "|(6,[0,1],[3.0,3.0])|                      0.0| [262.0,0.0,0.0,0.0]|   [1.0,0.0,0.0,0.0]|       0.0|\n",
      "|(6,[0,2],[2.0,2.0])|                      0.0| [262.0,0.0,0.0,0.0]|   [1.0,0.0,0.0,0.0]|       0.0|\n",
      "|(6,[0,2],[2.0,3.0])|                      0.0| [262.0,0.0,0.0,0.0]|   [1.0,0.0,0.0,0.0]|       0.0|\n",
      "|(6,[0,3],[1.0,2.0])|                      3.0| [27.0,93.0,0.0,8.0]|[0.2109375,0.7265...|       1.0|\n",
      "|(6,[0,5],[1.0,1.0])|                      0.0| [398.0,0.0,0.0,0.0]|   [1.0,0.0,0.0,0.0]|       0.0|\n",
      "|(6,[0,5],[1.0,2.0])|                      0.0| [262.0,0.0,0.0,0.0]|   [1.0,0.0,0.0,0.0]|       0.0|\n",
      "|(6,[0,5],[2.0,1.0])|                      0.0| [398.0,0.0,0.0,0.0]|   [1.0,0.0,0.0,0.0]|       0.0|\n",
      "|      (6,[1],[3.0])|                      0.0| [262.0,0.0,0.0,0.0]|   [1.0,0.0,0.0,0.0]|       0.0|\n",
      "|(6,[1,2],[1.0,2.0])|                      0.0| [262.0,0.0,0.0,0.0]|   [1.0,0.0,0.0,0.0]|       0.0|\n",
      "|(6,[1,2],[1.0,3.0])|                      0.0| [262.0,0.0,0.0,0.0]|   [1.0,0.0,0.0,0.0]|       0.0|\n",
      "|(6,[1,2],[2.0,1.0])|                      0.0| [262.0,0.0,0.0,0.0]|   [1.0,0.0,0.0,0.0]|       0.0|\n",
      "|(6,[1,2],[2.0,3.0])|                      0.0| [262.0,0.0,0.0,0.0]|   [1.0,0.0,0.0,0.0]|       0.0|\n",
      "|(6,[1,2],[3.0,3.0])|                      0.0| [262.0,0.0,0.0,0.0]|   [1.0,0.0,0.0,0.0]|       0.0|\n",
      "|(6,[1,3],[1.0,2.0])|                      1.0|  [4.0,65.0,0.0,0.0]|[0.05797101449275...|       1.0|\n",
      "|(6,[1,3],[2.0,1.0])|                      1.0|  [4.0,65.0,0.0,0.0]|[0.05797101449275...|       1.0|\n",
      "|(6,[1,3],[3.0,1.0])|                      0.0|[114.0,26.0,0.0,0.0]|[0.81428571428571...|       0.0|\n",
      "|(6,[1,4],[2.0,2.0])|                      0.0| [262.0,0.0,0.0,0.0]|   [1.0,0.0,0.0,0.0]|       0.0|\n",
      "|(6,[1,5],[1.0,1.0])|                      0.0| [398.0,0.0,0.0,0.0]|   [1.0,0.0,0.0,0.0]|       0.0|\n",
      "+-------------------+-------------------------+--------------------+--------------------+----------+\n",
      "only showing top 20 rows\n",
      "\n"
     ]
    }
   ],
   "source": [
    "pred=clf.transform(test)\n",
    "pred.show()"
   ]
  },
  {
   "cell_type": "code",
   "execution_count": 38,
   "id": "7072a950",
   "metadata": {},
   "outputs": [
    {
     "name": "stdout",
     "output_type": "stream",
     "text": [
      "Pridiction Accuracy:  0.8536585365853658\n",
      "Confusion Matrix: \n",
      "[[354  12   0   0]\n",
      " [ 33  87   0   5]\n",
      " [  0  11   0  12]\n",
      " [  0   5   0  14]]\n"
     ]
    }
   ],
   "source": [
    "from pyspark.ml.evaluation import MulticlassClassificationEvaluator\n",
    "from sklearn.metrics import confusion_matrix\n",
    "evalutor= MulticlassClassificationEvaluator(predictionCol='prediction',labelCol='independent_encoder_class', metricName='accuracy')\n",
    "\n",
    "acc = evalutor.evaluate(pred)\n",
    "print(\"Pridiction Accuracy: \", acc)\n",
    "\n",
    "y_pred=pred.select('prediction').collect()\n",
    "y_orig= pred.select('independent_encoder_class').collect()\n",
    "\n",
    "cm=confusion_matrix(y_orig, y_pred)\n",
    "print('Confusion Matrix: ')\n",
    "print(cm)"
   ]
  },
  {
   "cell_type": "code",
   "execution_count": 39,
   "id": "29db281a",
   "metadata": {},
   "outputs": [
    {
     "data": {
      "image/png": "[encoded data removed]",
      "text/plain": [
       "<Figure size 432x288 with 2 Axes>"
      ]
     },
     "metadata": {
      "needs_background": "light"
     },
     "output_type": "display_data"
    }
   ],
   "source": [
    "import seaborn as sns\n",
    "import matplotlib.pyplot as plt\n",
    "sns.heatmap(cm,annot=True,cmap='Blues',cbar=True)\n",
    "plt.show()"
   ]
  },
  {
   "cell_type": "code",
   "execution_count": null,
   "id": "eb6df421",
   "metadata": {},
   "outputs": [],
   "source": []
  }
 ],
 "metadata": {
  "kernelspec": {
   "display_name": "Python 3 (ipykernel)",
   "language": "python",
   "name": "python3"
  },
  "language_info": {
   "codemirror_mode": {
    "name": "ipython",
    "version": 3
   },
   "file_extension": ".py",
   "mimetype": "text/x-python",
   "name": "python",
   "nbconvert_exporter": "python",
   "pygments_lexer": "ipython3",
   "version": "3.9.12"
  }
 },
 "nbformat": 4,
 "nbformat_minor": 5
}

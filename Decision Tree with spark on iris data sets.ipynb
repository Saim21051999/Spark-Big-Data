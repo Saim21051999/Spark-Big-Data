{
 "cells": [
  {
   "cell_type": "code",
   "execution_count": 28,
   "id": "89f38102",
   "metadata": {},
   "outputs": [],
   "source": [
    "from pyspark.sql import SparkSession\n",
    "spark = SparkSession.builder.appName('classifier').getOrCreate()"
   ]
  },
  {
   "cell_type": "code",
   "execution_count": 29,
   "id": "555a62dd",
   "metadata": {},
   "outputs": [],
   "source": [
    "df= spark.read.csv(r\"C:\\Users\\user\\Desktop\\Iris (1).csv\",inferSchema=True,header=True)"
   ]
  },
  {
   "cell_type": "code",
   "execution_count": 30,
   "id": "d8b996fd",
   "metadata": {},
   "outputs": [
    {
     "name": "stdout",
     "output_type": "stream",
     "text": [
      "root\n",
      " |-- Id: integer (nullable = true)\n",
      " |-- SepalLengthCm: double (nullable = true)\n",
      " |-- SepalWidthCm: double (nullable = true)\n",
      " |-- PetalLengthCm: double (nullable = true)\n",
      " |-- PetalWidthCm: double (nullable = true)\n",
      " |-- Species: string (nullable = true)\n",
      "\n"
     ]
    }
   ],
   "source": [
    "df.printSchema()"
   ]
  },
  {
   "cell_type": "code",
   "execution_count": 31,
   "id": "383f1cd1",
   "metadata": {},
   "outputs": [
    {
     "name": "stdout",
     "output_type": "stream",
     "text": [
      "+---+-------------+------------+-------------+------------+-----------+-----------------+\n",
      "| Id|SepalLengthCm|SepalWidthCm|PetalLengthCm|PetalWidthCm|    Species|         features|\n",
      "+---+-------------+------------+-------------+------------+-----------+-----------------+\n",
      "|  1|          5.1|         3.5|          1.4|         0.2|Iris-setosa|[5.1,3.5,1.4,0.2]|\n",
      "|  2|          4.9|         3.0|          1.4|         0.2|Iris-setosa|[4.9,3.0,1.4,0.2]|\n",
      "|  3|          4.7|         3.2|          1.3|         0.2|Iris-setosa|[4.7,3.2,1.3,0.2]|\n",
      "|  4|          4.6|         3.1|          1.5|         0.2|Iris-setosa|[4.6,3.1,1.5,0.2]|\n",
      "|  5|          5.0|         3.6|          1.4|         0.2|Iris-setosa|[5.0,3.6,1.4,0.2]|\n",
      "|  6|          5.4|         3.9|          1.7|         0.4|Iris-setosa|[5.4,3.9,1.7,0.4]|\n",
      "|  7|          4.6|         3.4|          1.4|         0.3|Iris-setosa|[4.6,3.4,1.4,0.3]|\n",
      "|  8|          5.0|         3.4|          1.5|         0.2|Iris-setosa|[5.0,3.4,1.5,0.2]|\n",
      "|  9|          4.4|         2.9|          1.4|         0.2|Iris-setosa|[4.4,2.9,1.4,0.2]|\n",
      "| 10|          4.9|         3.1|          1.5|         0.1|Iris-setosa|[4.9,3.1,1.5,0.1]|\n",
      "| 11|          5.4|         3.7|          1.5|         0.2|Iris-setosa|[5.4,3.7,1.5,0.2]|\n",
      "| 12|          4.8|         3.4|          1.6|         0.2|Iris-setosa|[4.8,3.4,1.6,0.2]|\n",
      "| 13|          4.8|         3.0|          1.4|         0.1|Iris-setosa|[4.8,3.0,1.4,0.1]|\n",
      "| 14|          4.3|         3.0|          1.1|         0.1|Iris-setosa|[4.3,3.0,1.1,0.1]|\n",
      "| 15|          5.8|         4.0|          1.2|         0.2|Iris-setosa|[5.8,4.0,1.2,0.2]|\n",
      "| 16|          5.7|         4.4|          1.5|         0.4|Iris-setosa|[5.7,4.4,1.5,0.4]|\n",
      "| 17|          5.4|         3.9|          1.3|         0.4|Iris-setosa|[5.4,3.9,1.3,0.4]|\n",
      "| 18|          5.1|         3.5|          1.4|         0.3|Iris-setosa|[5.1,3.5,1.4,0.3]|\n",
      "| 19|          5.7|         3.8|          1.7|         0.3|Iris-setosa|[5.7,3.8,1.7,0.3]|\n",
      "| 20|          5.1|         3.8|          1.5|         0.3|Iris-setosa|[5.1,3.8,1.5,0.3]|\n",
      "+---+-------------+------------+-------------+------------+-----------+-----------------+\n",
      "only showing top 20 rows\n",
      "\n"
     ]
    }
   ],
   "source": [
    "from pyspark.ml.feature import VectorAssembler\n",
    "va = VectorAssembler(inputCols=[\"SepalLengthCm\",\"SepalWidthCm\",\"PetalLengthCm\",\"PetalWidthCm\"],outputCol = 'features')\n",
    "output = va.transform(df)\n",
    "output.show()"
   ]
  },
  {
   "cell_type": "code",
   "execution_count": 32,
   "id": "12c61081",
   "metadata": {},
   "outputs": [
    {
     "name": "stdout",
     "output_type": "stream",
     "text": [
      "+-----------------+-----------+\n",
      "|         features|    Species|\n",
      "+-----------------+-----------+\n",
      "|[5.1,3.5,1.4,0.2]|Iris-setosa|\n",
      "|[4.9,3.0,1.4,0.2]|Iris-setosa|\n",
      "|[4.7,3.2,1.3,0.2]|Iris-setosa|\n",
      "|[4.6,3.1,1.5,0.2]|Iris-setosa|\n",
      "|[5.0,3.6,1.4,0.2]|Iris-setosa|\n",
      "|[5.4,3.9,1.7,0.4]|Iris-setosa|\n",
      "|[4.6,3.4,1.4,0.3]|Iris-setosa|\n",
      "|[5.0,3.4,1.5,0.2]|Iris-setosa|\n",
      "|[4.4,2.9,1.4,0.2]|Iris-setosa|\n",
      "|[4.9,3.1,1.5,0.1]|Iris-setosa|\n",
      "|[5.4,3.7,1.5,0.2]|Iris-setosa|\n",
      "|[4.8,3.4,1.6,0.2]|Iris-setosa|\n",
      "|[4.8,3.0,1.4,0.1]|Iris-setosa|\n",
      "|[4.3,3.0,1.1,0.1]|Iris-setosa|\n",
      "|[5.8,4.0,1.2,0.2]|Iris-setosa|\n",
      "|[5.7,4.4,1.5,0.4]|Iris-setosa|\n",
      "|[5.4,3.9,1.3,0.4]|Iris-setosa|\n",
      "|[5.1,3.5,1.4,0.3]|Iris-setosa|\n",
      "|[5.7,3.8,1.7,0.3]|Iris-setosa|\n",
      "|[5.1,3.8,1.5,0.3]|Iris-setosa|\n",
      "+-----------------+-----------+\n",
      "only showing top 20 rows\n",
      "\n"
     ]
    }
   ],
   "source": [
    "dt = output.select(\"features\",\"Species\")\n",
    "dt.show()"
   ]
  },
  {
   "cell_type": "code",
   "execution_count": 35,
   "id": "96afec76",
   "metadata": {},
   "outputs": [
    {
     "name": "stdout",
     "output_type": "stream",
     "text": [
      "+-----------------+-----------+-------------+\n",
      "|         features|    Species|encoded_label|\n",
      "+-----------------+-----------+-------------+\n",
      "|[5.1,3.5,1.4,0.2]|Iris-setosa|          0.0|\n",
      "|[4.9,3.0,1.4,0.2]|Iris-setosa|          0.0|\n",
      "|[4.7,3.2,1.3,0.2]|Iris-setosa|          0.0|\n",
      "|[4.6,3.1,1.5,0.2]|Iris-setosa|          0.0|\n",
      "|[5.0,3.6,1.4,0.2]|Iris-setosa|          0.0|\n",
      "|[5.4,3.9,1.7,0.4]|Iris-setosa|          0.0|\n",
      "|[4.6,3.4,1.4,0.3]|Iris-setosa|          0.0|\n",
      "|[5.0,3.4,1.5,0.2]|Iris-setosa|          0.0|\n",
      "|[4.4,2.9,1.4,0.2]|Iris-setosa|          0.0|\n",
      "|[4.9,3.1,1.5,0.1]|Iris-setosa|          0.0|\n",
      "|[5.4,3.7,1.5,0.2]|Iris-setosa|          0.0|\n",
      "|[4.8,3.4,1.6,0.2]|Iris-setosa|          0.0|\n",
      "|[4.8,3.0,1.4,0.1]|Iris-setosa|          0.0|\n",
      "|[4.3,3.0,1.1,0.1]|Iris-setosa|          0.0|\n",
      "|[5.8,4.0,1.2,0.2]|Iris-setosa|          0.0|\n",
      "|[5.7,4.4,1.5,0.4]|Iris-setosa|          0.0|\n",
      "|[5.4,3.9,1.3,0.4]|Iris-setosa|          0.0|\n",
      "|[5.1,3.5,1.4,0.3]|Iris-setosa|          0.0|\n",
      "|[5.7,3.8,1.7,0.3]|Iris-setosa|          0.0|\n",
      "|[5.1,3.8,1.5,0.3]|Iris-setosa|          0.0|\n",
      "+-----------------+-----------+-------------+\n",
      "only showing top 20 rows\n",
      "\n"
     ]
    }
   ],
   "source": [
    "from pyspark.ml.feature import StringIndexer\n",
    "indexer = StringIndexer(inputCol='Species',outputCol=\"encoded_label\")\n",
    "df1 = indexer.fit(dt).transform(dt)\n",
    "df1.show()"
   ]
  },
  {
   "cell_type": "code",
   "execution_count": 36,
   "id": "a5347a96",
   "metadata": {},
   "outputs": [
    {
     "name": "stdout",
     "output_type": "stream",
     "text": [
      "+-----------------+-------------+\n",
      "|         features|encoded_label|\n",
      "+-----------------+-------------+\n",
      "|[5.1,3.5,1.4,0.2]|          0.0|\n",
      "|[4.9,3.0,1.4,0.2]|          0.0|\n",
      "|[4.7,3.2,1.3,0.2]|          0.0|\n",
      "|[4.6,3.1,1.5,0.2]|          0.0|\n",
      "|[5.0,3.6,1.4,0.2]|          0.0|\n",
      "|[5.4,3.9,1.7,0.4]|          0.0|\n",
      "|[4.6,3.4,1.4,0.3]|          0.0|\n",
      "|[5.0,3.4,1.5,0.2]|          0.0|\n",
      "|[4.4,2.9,1.4,0.2]|          0.0|\n",
      "|[4.9,3.1,1.5,0.1]|          0.0|\n",
      "|[5.4,3.7,1.5,0.2]|          0.0|\n",
      "|[4.8,3.4,1.6,0.2]|          0.0|\n",
      "|[4.8,3.0,1.4,0.1]|          0.0|\n",
      "|[4.3,3.0,1.1,0.1]|          0.0|\n",
      "|[5.8,4.0,1.2,0.2]|          0.0|\n",
      "|[5.7,4.4,1.5,0.4]|          0.0|\n",
      "|[5.4,3.9,1.3,0.4]|          0.0|\n",
      "|[5.1,3.5,1.4,0.3]|          0.0|\n",
      "|[5.7,3.8,1.7,0.3]|          0.0|\n",
      "|[5.1,3.8,1.5,0.3]|          0.0|\n",
      "+-----------------+-------------+\n",
      "only showing top 20 rows\n",
      "\n"
     ]
    }
   ],
   "source": [
    "df1 = df1.select(\"features\",\"encoded_label\")\n",
    "df1.show()"
   ]
  },
  {
   "cell_type": "code",
   "execution_count": 37,
   "id": "b706bd0d",
   "metadata": {},
   "outputs": [],
   "source": [
    "(train, test) = df1.randomSplit([0.70,0.30])"
   ]
  },
  {
   "cell_type": "code",
   "execution_count": 39,
   "id": "13083da4",
   "metadata": {},
   "outputs": [],
   "source": [
    "from pyspark.ml.classification import DecisionTreeClassifier\n",
    "clf = DecisionTreeClassifier(featuresCol=\"features\", labelCol=\"encoded_label\")\n",
    "clf = clf.fit(train)"
   ]
  },
  {
   "cell_type": "code",
   "execution_count": 40,
   "id": "ec9bc22c",
   "metadata": {},
   "outputs": [
    {
     "name": "stdout",
     "output_type": "stream",
     "text": [
      "+-----------------+-------------+--------------+-------------+----------+\n",
      "|         features|encoded_label| rawPrediction|  probability|prediction|\n",
      "+-----------------+-------------+--------------+-------------+----------+\n",
      "|[4.6,3.4,1.4,0.3]|          0.0|[37.0,0.0,0.0]|[1.0,0.0,0.0]|       0.0|\n",
      "|[4.8,3.1,1.6,0.2]|          0.0|[37.0,0.0,0.0]|[1.0,0.0,0.0]|       0.0|\n",
      "|[4.9,2.4,3.3,1.0]|          1.0| [0.0,0.0,1.0]|[0.0,0.0,1.0]|       2.0|\n",
      "+-----------------+-------------+--------------+-------------+----------+\n",
      "only showing top 3 rows\n",
      "\n"
     ]
    }
   ],
   "source": [
    "pred = clf.transform(test)\n",
    "pred.show(3)"
   ]
  },
  {
   "cell_type": "code",
   "execution_count": 44,
   "id": "8b608c8d",
   "metadata": {},
   "outputs": [
    {
     "name": "stdout",
     "output_type": "stream",
     "text": [
      "prediction Accuracy:  0.9444444444444444\n",
      "Confusion Matrix:\n",
      "[[13  0  0]\n",
      " [ 0 12  1]\n",
      " [ 0  1  9]]\n"
     ]
    }
   ],
   "source": [
    "from pyspark.ml.evaluation import MulticlassClassificationEvaluator\n",
    "from sklearn.metrics import confusion_matrix\n",
    "evaluator = MulticlassClassificationEvaluator(predictionCol='prediction',labelCol='encoded_label',\n",
    "                                             metricName='accuracy')\n",
    "acc = evaluator.evaluate(pred)\n",
    "print(\"prediction Accuracy: \", acc)\n",
    "\n",
    "y_pred = pred.select(\"prediction\").collect()\n",
    "y_orig=pred.select(\"encoded_label\").collect()\n",
    "\n",
    "cm = confusion_matrix(y_orig, y_pred)\n",
    "print(\"Confusion Matrix:\")\n",
    "print(cm)"
   ]
  },
  {
   "cell_type": "code",
   "execution_count": 47,
   "id": "64c26e79",
   "metadata": {},
   "outputs": [
    {
     "data": {
      "image/png": "[encoded data removed]",
      "text/plain": [
       "<Figure size 432x288 with 2 Axes>"
      ]
     },
     "metadata": {
      "needs_background": "light"
     },
     "output_type": "display_data"
    }
   ],
   "source": [
    "import seaborn as sns \n",
    "import matplotlib.pyplot as plt\n",
    "sns.heatmap(cm,annot=True,cmap='Blues', fmt = 'g')\n",
    "plt.show()"
   ]
  },
  {
   "cell_type": "code",
   "execution_count": null,
   "id": "76609733",
   "metadata": {},
   "outputs": [],
   "source": []
  }
 ],
 "metadata": {
  "kernelspec": {
   "display_name": "Python 3 (ipykernel)",
   "language": "python",
   "name": "python3"
  },
  "language_info": {
   "codemirror_mode": {
    "name": "ipython",
    "version": 3
   },
   "file_extension": ".py",
   "mimetype": "text/x-python",
   "name": "python",
   "nbconvert_exporter": "python",
   "pygments_lexer": "ipython3",
   "version": "3.9.12"
  }
 },
 "nbformat": 4,
 "nbformat_minor": 5
}
